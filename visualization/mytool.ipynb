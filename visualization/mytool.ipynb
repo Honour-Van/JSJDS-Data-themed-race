{
 "metadata": {
  "language_info": {
   "codemirror_mode": {
    "name": "ipython",
    "version": 3
   },
   "file_extension": ".py",
   "mimetype": "text/x-python",
   "name": "python",
   "nbconvert_exporter": "python",
   "pygments_lexer": "ipython3",
   "version": "3.9.5"
  },
  "orig_nbformat": 2,
  "kernelspec": {
   "name": "python395jvsc74a57bd0bd4c67ef142469da7dc4d338a32ac40116904d26076b8e6aa587d80720bc6a2b",
   "display_name": "Python 3.9.5 64-bit"
  },
  "metadata": {
   "interpreter": {
    "hash": "bd4c67ef142469da7dc4d338a32ac40116904d26076b8e6aa587d80720bc6a2b"
   }
  }
 },
 "nbformat": 4,
 "nbformat_minor": 2,
 "cells": [
  {
   "cell_type": "code",
   "execution_count": 5,
   "metadata": {},
   "outputs": [
    {
     "output_type": "execute_result",
     "data": {
      "text/plain": [
       "6659.91"
      ]
     },
     "metadata": {},
     "execution_count": 5
    }
   ],
   "source": [
    "import pandas as pd\n",
    "import json\n",
    "df = pd.read_csv('./FDI_useful.csv')\n",
    "# for index, row in df[df.iloc[:,0]==2003].iterrows():\n",
    "#     print(row['国家'],row[3])\n",
    "\n",
    "# [[row['国家'], row[3]] for _, row in df[df.iloc[:,0]==2003].iterrows()]\n",
    "\n",
    "with open(\"./country_ce.json\", 'r', encoding='utf-8') as f:\n",
    "    ce_dict = json.load(f)\n",
    "# [[ce_dict[row['国家']], row[3]] for _, row in df[df.iloc[:,0]==2004].iterrows()]\n",
    "year = 2004\n",
    "df[df.iloc[:, 0] == year].iloc[:,3].max()"
   ]
  },
  {
   "cell_type": "code",
   "execution_count": 10,
   "metadata": {},
   "outputs": [
    {
     "output_type": "execute_result",
     "data": {
      "text/plain": [
       "['China', 'Canada', 'Brazil', 'Russia', 'United States', 'Africa', 'Germany']"
      ]
     },
     "metadata": {},
     "execution_count": 10
    }
   ],
   "source": [
    "from pyecharts.faker import Faker\n",
    "Faker.country"
   ]
  },
  {
   "source": [
    "因而从上述的cell我们可以看出，基于已有的数据，我们还需要进行中英文对换。"
   ],
   "cell_type": "markdown",
   "metadata": {}
  },
  {
   "cell_type": "code",
   "execution_count": 21,
   "metadata": {},
   "outputs": [],
   "source": [
    "import json\n",
    "with open(\"./world_country.json\", 'r', encoding='utf-8') as f:\n",
    "    raw_dict = json.load(f)\n",
    "with open(\"./country_ce.json\", 'w', encoding='utf-8') as f:\n",
    "    json.dump(dict(zip(raw_dict.values(), raw_dict.keys())), f,ensure_ascii=False)"
   ]
  }
 ]
}