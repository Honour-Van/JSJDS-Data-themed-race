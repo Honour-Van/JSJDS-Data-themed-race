{
 "metadata": {
  "language_info": {
   "codemirror_mode": {
    "name": "ipython",
    "version": 3
   },
   "file_extension": ".py",
   "mimetype": "text/x-python",
   "name": "python",
   "nbconvert_exporter": "python",
   "pygments_lexer": "ipython3",
   "version": "3.9.5"
  },
  "orig_nbformat": 2,
  "kernelspec": {
   "name": "python395jvsc74a57bd0bd4c67ef142469da7dc4d338a32ac40116904d26076b8e6aa587d80720bc6a2b",
   "display_name": "Python 3.9.5 64-bit"
  },
  "metadata": {
   "interpreter": {
    "hash": "bd4c67ef142469da7dc4d338a32ac40116904d26076b8e6aa587d80720bc6a2b"
   }
  }
 },
 "nbformat": 4,
 "nbformat_minor": 2,
 "cells": [
  {
   "cell_type": "code",
   "execution_count": 6,
   "metadata": {},
   "outputs": [
    {
     "output_type": "execute_result",
     "data": {
      "text/plain": [
       "                                Location  Period  \\\n",
       "9                            Afghanistan    2000   \n",
       "21                               Albania    2000   \n",
       "33                               Algeria    2000   \n",
       "45                                Angola    2000   \n",
       "57                   Antigua and Barbuda    2000   \n",
       "...                                  ...     ...   \n",
       "2145  Venezuela (Bolivarian Republic of)    2000   \n",
       "2157                            Viet Nam    2000   \n",
       "2169                               Yemen    2000   \n",
       "2181                              Zambia    2000   \n",
       "2193                            Zimbabwe    2000   \n",
       "\n",
       "                                            Indicator        Dim1  \\\n",
       "9     Healthy life expectancy (HALE) at birth (years)  Both sexes   \n",
       "21    Healthy life expectancy (HALE) at birth (years)  Both sexes   \n",
       "33    Healthy life expectancy (HALE) at birth (years)  Both sexes   \n",
       "45    Healthy life expectancy (HALE) at birth (years)  Both sexes   \n",
       "57    Healthy life expectancy (HALE) at birth (years)  Both sexes   \n",
       "...                                               ...         ...   \n",
       "2145  Healthy life expectancy (HALE) at birth (years)  Both sexes   \n",
       "2157  Healthy life expectancy (HALE) at birth (years)  Both sexes   \n",
       "2169  Healthy life expectancy (HALE) at birth (years)  Both sexes   \n",
       "2181  Healthy life expectancy (HALE) at birth (years)  Both sexes   \n",
       "2193  Healthy life expectancy (HALE) at birth (years)  Both sexes   \n",
       "\n",
       "      First Tooltip  \n",
       "9             46.76  \n",
       "21            65.24  \n",
       "33            62.71  \n",
       "45            42.87  \n",
       "57            65.53  \n",
       "...             ...  \n",
       "2145          64.68  \n",
       "2157          63.30  \n",
       "2169          54.46  \n",
       "2181          38.95  \n",
       "2193          41.03  \n",
       "\n",
       "[183 rows x 5 columns]"
      ],
      "text/html": "<div>\n<style scoped>\n    .dataframe tbody tr th:only-of-type {\n        vertical-align: middle;\n    }\n\n    .dataframe tbody tr th {\n        vertical-align: top;\n    }\n\n    .dataframe thead th {\n        text-align: right;\n    }\n</style>\n<table border=\"1\" class=\"dataframe\">\n  <thead>\n    <tr style=\"text-align: right;\">\n      <th></th>\n      <th>Location</th>\n      <th>Period</th>\n      <th>Indicator</th>\n      <th>Dim1</th>\n      <th>First Tooltip</th>\n    </tr>\n  </thead>\n  <tbody>\n    <tr>\n      <th>9</th>\n      <td>Afghanistan</td>\n      <td>2000</td>\n      <td>Healthy life expectancy (HALE) at birth (years)</td>\n      <td>Both sexes</td>\n      <td>46.76</td>\n    </tr>\n    <tr>\n      <th>21</th>\n      <td>Albania</td>\n      <td>2000</td>\n      <td>Healthy life expectancy (HALE) at birth (years)</td>\n      <td>Both sexes</td>\n      <td>65.24</td>\n    </tr>\n    <tr>\n      <th>33</th>\n      <td>Algeria</td>\n      <td>2000</td>\n      <td>Healthy life expectancy (HALE) at birth (years)</td>\n      <td>Both sexes</td>\n      <td>62.71</td>\n    </tr>\n    <tr>\n      <th>45</th>\n      <td>Angola</td>\n      <td>2000</td>\n      <td>Healthy life expectancy (HALE) at birth (years)</td>\n      <td>Both sexes</td>\n      <td>42.87</td>\n    </tr>\n    <tr>\n      <th>57</th>\n      <td>Antigua and Barbuda</td>\n      <td>2000</td>\n      <td>Healthy life expectancy (HALE) at birth (years)</td>\n      <td>Both sexes</td>\n      <td>65.53</td>\n    </tr>\n    <tr>\n      <th>...</th>\n      <td>...</td>\n      <td>...</td>\n      <td>...</td>\n      <td>...</td>\n      <td>...</td>\n    </tr>\n    <tr>\n      <th>2145</th>\n      <td>Venezuela (Bolivarian Republic of)</td>\n      <td>2000</td>\n      <td>Healthy life expectancy (HALE) at birth (years)</td>\n      <td>Both sexes</td>\n      <td>64.68</td>\n    </tr>\n    <tr>\n      <th>2157</th>\n      <td>Viet Nam</td>\n      <td>2000</td>\n      <td>Healthy life expectancy (HALE) at birth (years)</td>\n      <td>Both sexes</td>\n      <td>63.30</td>\n    </tr>\n    <tr>\n      <th>2169</th>\n      <td>Yemen</td>\n      <td>2000</td>\n      <td>Healthy life expectancy (HALE) at birth (years)</td>\n      <td>Both sexes</td>\n      <td>54.46</td>\n    </tr>\n    <tr>\n      <th>2181</th>\n      <td>Zambia</td>\n      <td>2000</td>\n      <td>Healthy life expectancy (HALE) at birth (years)</td>\n      <td>Both sexes</td>\n      <td>38.95</td>\n    </tr>\n    <tr>\n      <th>2193</th>\n      <td>Zimbabwe</td>\n      <td>2000</td>\n      <td>Healthy life expectancy (HALE) at birth (years)</td>\n      <td>Both sexes</td>\n      <td>41.03</td>\n    </tr>\n  </tbody>\n</table>\n<p>183 rows × 5 columns</p>\n</div>"
     },
     "metadata": {},
     "execution_count": 6
    }
   ],
   "source": [
    "import pandas as pd\n",
    "import json\n",
    "df = pd.read_csv('./data/LE.csv')\n",
    "# for index, row in df[df.iloc[:,0]==2003].iterrows():\n",
    "#     print(row['国家'],row[3])\n",
    "\n",
    "# [[row['国家'], row[3]] for _, row in df[df.iloc[:,0]==2003].iterrows()]\n",
    "year = 2000\n",
    "df[(df['Period'] == year) & (df['Dim1'] == \"Both sexes\")]\n",
    "\n",
    "# with open(\"./country_ce.json\", 'r', encoding='utf-8') as f:\n",
    "#     ce_dict = json.load(f)\n",
    "# [[ce_dict[row['国家']], row[3]] for _, row in df[df.iloc[:,0]==2004].iterrows()]\n",
    "# df[df.iloc[:, 0] == year].iloc[:,3].max()"
   ]
  },
  {
   "cell_type": "code",
   "execution_count": 10,
   "metadata": {},
   "outputs": [
    {
     "output_type": "execute_result",
     "data": {
      "text/plain": [
       "['China', 'Canada', 'Brazil', 'Russia', 'United States', 'Africa', 'Germany']"
      ]
     },
     "metadata": {},
     "execution_count": 10
    }
   ],
   "source": [
    "from pyecharts.faker import Faker\n",
    "Faker.country"
   ]
  },
  {
   "source": [
    "因而从上述的cell我们可以看出，基于已有的数据，我们还需要进行中英文对换。"
   ],
   "cell_type": "markdown",
   "metadata": {}
  },
  {
   "cell_type": "code",
   "execution_count": 21,
   "metadata": {},
   "outputs": [],
   "source": [
    "import json\n",
    "with open(\"./world_country.json\", 'r', encoding='utf-8') as f:\n",
    "    raw_dict = json.load(f)\n",
    "with open(\"./country_ce.json\", 'w', encoding='utf-8') as f:\n",
    "    json.dump(dict(zip(raw_dict.values(), raw_dict.keys())), f,ensure_ascii=False)"
   ]
  }
 ]
}