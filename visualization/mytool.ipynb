{
 "metadata": {
  "language_info": {
   "codemirror_mode": {
    "name": "ipython",
    "version": 3
   },
   "file_extension": ".py",
   "mimetype": "text/x-python",
   "name": "python",
   "nbconvert_exporter": "python",
   "pygments_lexer": "ipython3",
   "version": "3.9.5"
  },
  "orig_nbformat": 2,
  "kernelspec": {
   "name": "python395jvsc74a57bd0bd4c67ef142469da7dc4d338a32ac40116904d26076b8e6aa587d80720bc6a2b",
   "display_name": "Python 3.9.5 64-bit"
  },
  "metadata": {
   "interpreter": {
    "hash": "bd4c67ef142469da7dc4d338a32ac40116904d26076b8e6aa587d80720bc6a2b"
   }
  }
 },
 "nbformat": 4,
 "nbformat_minor": 2,
 "cells": [
  {
   "cell_type": "code",
   "execution_count": 31,
   "metadata": {},
   "outputs": [
    {
     "output_type": "execute_result",
     "data": {
      "text/plain": [
       "[['Canada', 46.18],\n",
       " ['United States', 502.32],\n",
       " ['Australia', 416.49],\n",
       " ['Papua New Guinea', 10.22],\n",
       " ['Federated States of Micronesia', 0.3],\n",
       " ['Samoa', 0.92],\n",
       " ['Solomon Is.', 0.08],\n",
       " ['New Zealand', 44.25],\n",
       " ['Algeria', 5.7],\n",
       " ['Egypt', 14.29],\n",
       " ['Ethiopia', 4.78],\n",
       " ['Angola', 0.3],\n",
       " ['Benin', 7.71],\n",
       " ['Botswana', 2.1],\n",
       " ['Eq. Guinea', 8.64],\n",
       " ['Togo', 4.73],\n",
       " ['Eritrea', 1.88],\n",
       " ['Gambia', 0.04],\n",
       " ['Guinea', 14.34],\n",
       " ['Ghana', 6.6],\n",
       " ['Gabon', 24.05],\n",
       " ['Zimbabwe', 36.74],\n",
       " ['Cameroon', 5.73],\n",
       " ['Kenya', 25.53],\n",
       " ['Lesotho', 0.24],\n",
       " ['Liberia', 5.8],\n",
       " ['Libya', 0.86],\n",
       " ['Rwanda', 3.3],\n",
       " ['Madagascar', 28.13],\n",
       " ['Malawi', 0.72],\n",
       " ['Mali', 12.09],\n",
       " ['Mauritius', 12.59],\n",
       " ['Mauritania', 1.82],\n",
       " ['Dem. Rep. Congo', 0.24],\n",
       " ['Morocco', 4.31],\n",
       " ['Mozambique', 2.42],\n",
       " ['Namibia', 0.72],\n",
       " ['South Africa', 44.77],\n",
       " ['Niger', 12.5],\n",
       " ['Nigeria', 31.98],\n",
       " ['Senegal', 2.51],\n",
       " ['Seychelles', 0.42],\n",
       " ['Sudan', 0.55],\n",
       " ['Tanzania', 7.46],\n",
       " ['Tunisia', 1.56],\n",
       " ['Uganda', 1.33],\n",
       " ['Zambia', 143.7],\n",
       " ['Argentina', 1.05],\n",
       " ['Antigua and Barb.', 0.2],\n",
       " ['Bahamas', 44.45],\n",
       " ['Panama', 0.16],\n",
       " ['Brazil', 52.19],\n",
       " ['Ecuador', 0.55],\n",
       " ['Colombia', 0.79],\n",
       " ['Cuba', 13.95],\n",
       " ['Guyana', 14.04],\n",
       " ['Honduras', 8.93],\n",
       " ['Cayman Is.', 3690.68],\n",
       " ['Peru', 126.18],\n",
       " ['Mexico', 97.18],\n",
       " ['St. Vin. and Gren.', 5.6],\n",
       " ['Suriname', 10.06],\n",
       " ['Venezuela', 19.39],\n",
       " ['Uruguay', 0.53],\n",
       " ['U.S. Virgin Is.', 532.64],\n",
       " ['Chile', 0.75],\n",
       " ['Azerbaijan', 0.35],\n",
       " ['Ireland', 0.24],\n",
       " ['Estonia', 0.0],\n",
       " ['Austria', 0.7],\n",
       " ['Bulgaria', 0.6],\n",
       " ['Belgium', 0.41],\n",
       " ['Poland', 2.72],\n",
       " ['Bosnia and Herz.', 1.46],\n",
       " ['Denmark', 74.43],\n",
       " ['Germany', 83.61],\n",
       " ['Russia', 61.64],\n",
       " ['France', 13.12],\n",
       " ['Netherlands', 5.9],\n",
       " ['Czech Rep.', 0.33],\n",
       " ['Latvia', 1.61],\n",
       " ['Romania', 29.75],\n",
       " ['Malta', 0.37],\n",
       " ['Portugal', 0.2],\n",
       " ['Sweden', 6.07],\n",
       " ['Switzerland', 2.21],\n",
       " ['Slovakia', 0.1],\n",
       " ['Ukraine', 0.06],\n",
       " ['Spain', 101.81],\n",
       " ['Hungary', 5.43],\n",
       " ['Italy', 19.18],\n",
       " ['United Kingdom', 75.15],\n",
       " ['Afghanistan', 0.43],\n",
       " ['United Arab Emirates', 31.17],\n",
       " ['Pakistan', 27.48],\n",
       " ['Bahrain', 0.15],\n",
       " ['Dem. Rep. Korea', 1.17],\n",
       " ['Philippines', 8.75],\n",
       " ['Kazakhstan', 19.71],\n",
       " ['Korea', 235.38],\n",
       " ['Kyrgyzstan', 15.79],\n",
       " ['Cambodia', 59.49],\n",
       " ['Qatar', 1.9],\n",
       " ['Kuwait', 0.17],\n",
       " ['Lao PDR', 9.11],\n",
       " ['Malaysia', 100.66],\n",
       " ['Mongolia', 13.42],\n",
       " ['Bangladesh', 8.45],\n",
       " ['Myanmar', 10.22],\n",
       " ['Nepal', 1.81],\n",
       " ['Japan', 89.31],\n",
       " ['Saudi Arabia', 0.24],\n",
       " ['Sri Lanka', 6.54],\n",
       " ['Tajikistan', 5.12],\n",
       " ['Thailand', 150.77],\n",
       " ['Turkey', 1.53],\n",
       " ['Turkmenistan', 0.2],\n",
       " ['Brunei', 0.13],\n",
       " ['Uzbekistan', 3.27],\n",
       " ['Singapore', 164.83],\n",
       " ['Yemen', 12.76],\n",
       " ['Iraq', 436.96],\n",
       " ['Iran', 22.15],\n",
       " ['Israel', 0.32],\n",
       " ['India', 0.96],\n",
       " ['Indonesia', 54.26],\n",
       " ['Jordan', 1.0],\n",
       " ['Vietnam', 28.73]]"
      ]
     },
     "metadata": {},
     "execution_count": 31
    }
   ],
   "source": [
    "import pandas as pd\n",
    "\n",
    "df = pd.read_csv('./FDI_useful.csv')\n",
    "# for index, row in df[df.iloc[:,0]==2003].iterrows():\n",
    "#     print(row['国家'],row[3])\n",
    "\n",
    "# [[row['国家'], row[3]] for _, row in df[df.iloc[:,0]==2003].iterrows()]\n",
    "\n",
    "with open(\"./country_ce.json\", 'r', encoding='utf-8') as f:\n",
    "    ce_dict = json.load(f)\n",
    "[[ce_dict[row['国家']], row[3]] for _, row in df[df.iloc[:,0]==2003].iterrows()]\n"
   ]
  },
  {
   "cell_type": "code",
   "execution_count": 10,
   "metadata": {},
   "outputs": [
    {
     "output_type": "execute_result",
     "data": {
      "text/plain": [
       "['China', 'Canada', 'Brazil', 'Russia', 'United States', 'Africa', 'Germany']"
      ]
     },
     "metadata": {},
     "execution_count": 10
    }
   ],
   "source": [
    "from pyecharts.faker import Faker\n",
    "Faker.country"
   ]
  },
  {
   "source": [
    "因而从上述的cell我们可以看出，基于已有的数据，我们还需要进行中英文对换。"
   ],
   "cell_type": "markdown",
   "metadata": {}
  },
  {
   "cell_type": "code",
   "execution_count": 21,
   "metadata": {},
   "outputs": [],
   "source": [
    "import json\n",
    "with open(\"./world_country.json\", 'r', encoding='utf-8') as f:\n",
    "    raw_dict = json.load(f)\n",
    "with open(\"./country_ce.json\", 'w', encoding='utf-8') as f:\n",
    "    json.dump(dict(zip(raw_dict.values(), raw_dict.keys())), f,ensure_ascii=False)"
   ]
  }
 ]
}